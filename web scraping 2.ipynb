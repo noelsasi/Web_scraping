{
 "cells": [
  {
   "cell_type": "code",
   "execution_count": 1,
   "metadata": {},
   "outputs": [],
   "source": [
    "import requests\n",
    "import bs4"
   ]
  },
  {
   "cell_type": "code",
   "execution_count": 2,
   "metadata": {},
   "outputs": [],
   "source": [
    "response = requests.get('http://semproject.000webhostapp.com/home.php')"
   ]
  },
  {
   "cell_type": "code",
   "execution_count": 3,
   "metadata": {},
   "outputs": [],
   "source": [
    "soup = bs4.BeautifulSoup(response.text, 'lxml')"
   ]
  },
  {
   "cell_type": "code",
   "execution_count": 4,
   "metadata": {},
   "outputs": [],
   "source": [
    "panelheading = soup.select('.panel-heading')"
   ]
  },
  {
   "cell_type": "code",
   "execution_count": 5,
   "metadata": {},
   "outputs": [
    {
     "data": {
      "text/plain": [
       "[<div class=\"panel-heading\">Check your Symptoms</div>,\n",
       " <div class=\"panel-heading\">Get Doctor Appointment</div>,\n",
       " <div class=\"panel-heading\">Get Medicines Delivered to Home</div>,\n",
       " <div class=\"panel-heading\">Health Tips from Top notch Doctors</div>,\n",
       " <div class=\"panel-heading\">Check your BMI Index</div>,\n",
       " <div class=\"panel-heading\">Testimonies and happy Customers</div>]"
      ]
     },
     "execution_count": 5,
     "metadata": {},
     "output_type": "execute_result"
    }
   ],
   "source": [
    "panelheading"
   ]
  },
  {
   "cell_type": "code",
   "execution_count": 6,
   "metadata": {},
   "outputs": [
    {
     "name": "stdout",
     "output_type": "stream",
     "text": [
      "Check your Symptoms\n",
      "Get Doctor Appointment\n",
      "Get Medicines Delivered to Home\n",
      "Health Tips from Top notch Doctors\n",
      "Check your BMI Index\n",
      "Testimonies and happy Customers\n"
     ]
    }
   ],
   "source": [
    "for panelheading in soup.select('.panel-heading'):\n",
    "    print(panelheading.text)"
   ]
  },
  {
   "cell_type": "code",
   "execution_count": null,
   "metadata": {},
   "outputs": [],
   "source": []
  }
 ],
 "metadata": {
  "kernelspec": {
   "display_name": "Python 3",
   "language": "python",
   "name": "python3"
  },
  "language_info": {
   "codemirror_mode": {
    "name": "ipython",
    "version": 3
   },
   "file_extension": ".py",
   "mimetype": "text/x-python",
   "name": "python",
   "nbconvert_exporter": "python",
   "pygments_lexer": "ipython3",
   "version": "3.6.5"
  }
 },
 "nbformat": 4,
 "nbformat_minor": 2
}
